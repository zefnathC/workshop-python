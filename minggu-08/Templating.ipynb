{
 "cells": [
  {
   "cell_type": "code",
   "execution_count": 1,
   "id": "ef84fe54-8b89-4727-ac10-799cfef58a89",
   "metadata": {
    "tags": []
   },
   "outputs": [
    {
     "data": {
      "text/plain": [
       "'Nottinghamfolk send $10 to the ditch fund.'"
      ]
     },
     "execution_count": 1,
     "metadata": {},
     "output_type": "execute_result"
    }
   ],
   "source": [
    "from string import Template\n",
    "t = Template('${village}folk send $$10 to $cause.')\n",
    "t.substitute(village='Nottingham', cause='the ditch fund')"
   ]
  },
  {
   "cell_type": "code",
   "execution_count": 2,
   "id": "55233ae4-8bdd-4481-91f6-cb30566af5a5",
   "metadata": {
    "tags": []
   },
   "outputs": [
    {
     "ename": "KeyError",
     "evalue": "'owner'",
     "output_type": "error",
     "traceback": [
      "\u001b[0;31m---------------------------------------------------------------------------\u001b[0m",
      "\u001b[0;31mKeyError\u001b[0m                                  Traceback (most recent call last)",
      "Cell \u001b[0;32mIn[2], line 3\u001b[0m\n\u001b[1;32m      1\u001b[0m t \u001b[38;5;241m=\u001b[39m Template(\u001b[38;5;124m'\u001b[39m\u001b[38;5;124mReturn the $item to $owner.\u001b[39m\u001b[38;5;124m'\u001b[39m)\n\u001b[1;32m      2\u001b[0m d \u001b[38;5;241m=\u001b[39m \u001b[38;5;28mdict\u001b[39m(item\u001b[38;5;241m=\u001b[39m\u001b[38;5;124m'\u001b[39m\u001b[38;5;124munladen swallow\u001b[39m\u001b[38;5;124m'\u001b[39m)\n\u001b[0;32m----> 3\u001b[0m \u001b[43mt\u001b[49m\u001b[38;5;241;43m.\u001b[39;49m\u001b[43msubstitute\u001b[49m\u001b[43m(\u001b[49m\u001b[43md\u001b[49m\u001b[43m)\u001b[49m\n",
      "File \u001b[0;32m/usr/local/python/3.10.4/lib/python3.10/string.py:121\u001b[0m, in \u001b[0;36mTemplate.substitute\u001b[0;34m(self, mapping, **kws)\u001b[0m\n\u001b[1;32m    118\u001b[0m         \u001b[38;5;28mself\u001b[39m\u001b[38;5;241m.\u001b[39m_invalid(mo)\n\u001b[1;32m    119\u001b[0m     \u001b[38;5;28;01mraise\u001b[39;00m \u001b[38;5;167;01mValueError\u001b[39;00m(\u001b[38;5;124m'\u001b[39m\u001b[38;5;124mUnrecognized named group in pattern\u001b[39m\u001b[38;5;124m'\u001b[39m,\n\u001b[1;32m    120\u001b[0m                      \u001b[38;5;28mself\u001b[39m\u001b[38;5;241m.\u001b[39mpattern)\n\u001b[0;32m--> 121\u001b[0m \u001b[38;5;28;01mreturn\u001b[39;00m \u001b[38;5;28;43mself\u001b[39;49m\u001b[38;5;241;43m.\u001b[39;49m\u001b[43mpattern\u001b[49m\u001b[38;5;241;43m.\u001b[39;49m\u001b[43msub\u001b[49m\u001b[43m(\u001b[49m\u001b[43mconvert\u001b[49m\u001b[43m,\u001b[49m\u001b[43m \u001b[49m\u001b[38;5;28;43mself\u001b[39;49m\u001b[38;5;241;43m.\u001b[39;49m\u001b[43mtemplate\u001b[49m\u001b[43m)\u001b[49m\n",
      "File \u001b[0;32m/usr/local/python/3.10.4/lib/python3.10/string.py:114\u001b[0m, in \u001b[0;36mTemplate.substitute.<locals>.convert\u001b[0;34m(mo)\u001b[0m\n\u001b[1;32m    112\u001b[0m named \u001b[38;5;241m=\u001b[39m mo\u001b[38;5;241m.\u001b[39mgroup(\u001b[38;5;124m'\u001b[39m\u001b[38;5;124mnamed\u001b[39m\u001b[38;5;124m'\u001b[39m) \u001b[38;5;129;01mor\u001b[39;00m mo\u001b[38;5;241m.\u001b[39mgroup(\u001b[38;5;124m'\u001b[39m\u001b[38;5;124mbraced\u001b[39m\u001b[38;5;124m'\u001b[39m)\n\u001b[1;32m    113\u001b[0m \u001b[38;5;28;01mif\u001b[39;00m named \u001b[38;5;129;01mis\u001b[39;00m \u001b[38;5;129;01mnot\u001b[39;00m \u001b[38;5;28;01mNone\u001b[39;00m:\n\u001b[0;32m--> 114\u001b[0m     \u001b[38;5;28;01mreturn\u001b[39;00m \u001b[38;5;28mstr\u001b[39m(\u001b[43mmapping\u001b[49m\u001b[43m[\u001b[49m\u001b[43mnamed\u001b[49m\u001b[43m]\u001b[49m)\n\u001b[1;32m    115\u001b[0m \u001b[38;5;28;01mif\u001b[39;00m mo\u001b[38;5;241m.\u001b[39mgroup(\u001b[38;5;124m'\u001b[39m\u001b[38;5;124mescaped\u001b[39m\u001b[38;5;124m'\u001b[39m) \u001b[38;5;129;01mis\u001b[39;00m \u001b[38;5;129;01mnot\u001b[39;00m \u001b[38;5;28;01mNone\u001b[39;00m:\n\u001b[1;32m    116\u001b[0m     \u001b[38;5;28;01mreturn\u001b[39;00m \u001b[38;5;28mself\u001b[39m\u001b[38;5;241m.\u001b[39mdelimiter\n",
      "\u001b[0;31mKeyError\u001b[0m: 'owner'"
     ]
    }
   ],
   "source": [
    "t = Template('Return the $item to $owner.')\n",
    "d = dict(item='unladen swallow')\n",
    "t.substitute(d)"
   ]
  },
  {
   "cell_type": "code",
   "execution_count": 3,
   "id": "3a0ff216-f82e-4848-bd20-b6fac61f0f11",
   "metadata": {
    "tags": []
   },
   "outputs": [
    {
     "data": {
      "text/plain": [
       "'Return the unladen swallow to $owner.'"
      ]
     },
     "execution_count": 3,
     "metadata": {},
     "output_type": "execute_result"
    }
   ],
   "source": [
    "t.safe_substitute(d)"
   ]
  },
  {
   "cell_type": "code",
   "execution_count": 4,
   "id": "a8345dd3-f29b-454a-b0e4-af2c48ff0088",
   "metadata": {
    "tags": []
   },
   "outputs": [],
   "source": [
    "import time, os.path\n",
    "photofiles = ['img_1074.jpg', 'img_1076.jpg', 'img_1077.jpg']\n",
    "class BatchRename(Template):\n",
    "    delimiter = '%'"
   ]
  },
  {
   "cell_type": "code",
   "execution_count": 6,
   "id": "70c5e476-ba2f-43bd-82c8-152dfbc9ee21",
   "metadata": {
    "tags": []
   },
   "outputs": [
    {
     "name": "stdin",
     "output_type": "stream",
     "text": [
      "Enter rename style (%d-date %n-seqnum %f-format):   22032001\n"
     ]
    }
   ],
   "source": [
    "fmt = input('Enter rename style (%d-date %n-seqnum %f-format):  ')\n"
   ]
  },
  {
   "cell_type": "code",
   "execution_count": 7,
   "id": "d85c0f28-c1ae-45b8-8fd5-182c00783cb6",
   "metadata": {
    "tags": []
   },
   "outputs": [
    {
     "name": "stdout",
     "output_type": "stream",
     "text": [
      "img_1074.jpg --> 22032001\n",
      "img_1076.jpg --> 22032001\n",
      "img_1077.jpg --> 22032001\n"
     ]
    }
   ],
   "source": [
    "t = BatchRename(fmt)\n",
    "date = time.strftime('%d%b%y')\n",
    "for i, filename in enumerate(photofiles):\n",
    "    base, ext = os.path.splitext(filename)\n",
    "    newname = t.substitute(d=date, n=i, f=ext)\n",
    "    print('{0} --> {1}'.format(filename, newname))\n"
   ]
  },
  {
   "cell_type": "code",
   "execution_count": null,
   "id": "8559bdf7-044f-4c90-b0e6-bd359af9f498",
   "metadata": {},
   "outputs": [],
   "source": []
  }
 ],
 "metadata": {
  "kernelspec": {
   "display_name": "Python 3 (ipykernel)",
   "language": "python",
   "name": "python3"
  },
  "language_info": {
   "codemirror_mode": {
    "name": "ipython",
    "version": 3
   },
   "file_extension": ".py",
   "mimetype": "text/x-python",
   "name": "python",
   "nbconvert_exporter": "python",
   "pygments_lexer": "ipython3",
   "version": "3.10.4"
  }
 },
 "nbformat": 4,
 "nbformat_minor": 5
}
