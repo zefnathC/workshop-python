{
 "cells": [
  {
   "cell_type": "code",
   "execution_count": null,
   "id": "74660fe5-8406-4de1-ae75-103ff4744e3a",
   "metadata": {
    "tags": []
   },
   "outputs": [],
   "source": [
    "while True:\n",
    "    pass  "
   ]
  },
  {
   "cell_type": "code",
   "execution_count": null,
   "id": "0f06e1fd-0d2c-4462-940b-0d9ea3a98493",
   "metadata": {
    "tags": []
   },
   "outputs": [],
   "source": [
    "class MyEmptyClass:\n",
    "    pass\n"
   ]
  },
  {
   "cell_type": "code",
   "execution_count": null,
   "id": "94b10d5a-b585-49d8-8f57-375b3d0b0f3b",
   "metadata": {
    "tags": []
   },
   "outputs": [],
   "source": [
    "def initlog(*args):\n",
    "    pass"
   ]
  }
 ],
 "metadata": {
  "kernelspec": {
   "display_name": "Python 3 (ipykernel)",
   "language": "python",
   "name": "python3"
  },
  "language_info": {
   "codemirror_mode": {
    "name": "ipython",
    "version": 3
   },
   "file_extension": ".py",
   "mimetype": "text/x-python",
   "name": "python",
   "nbconvert_exporter": "python",
   "pygments_lexer": "ipython3",
   "version": "3.10.4"
  }
 },
 "nbformat": 4,
 "nbformat_minor": 5
}
