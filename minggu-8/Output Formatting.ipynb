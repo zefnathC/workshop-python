{
 "cells": [
  {
   "cell_type": "code",
   "execution_count": 1,
   "id": "f677f1ae-6a9e-4dd1-adc5-23df10a664b9",
   "metadata": {
    "tags": []
   },
   "outputs": [
    {
     "data": {
      "text/plain": [
       "\"{'a', 'c', 'd', 'e', 'f', 'g', ...}\""
      ]
     },
     "execution_count": 1,
     "metadata": {},
     "output_type": "execute_result"
    }
   ],
   "source": [
    "import reprlib\n",
    "reprlib.repr(set('supercalifragilisticexpialidocious'))"
   ]
  },
  {
   "cell_type": "code",
   "execution_count": 4,
   "id": "b75c29ed-2408-45f6-b871-edf378cface2",
   "metadata": {
    "tags": []
   },
   "outputs": [
    {
     "name": "stdout",
     "output_type": "stream",
     "text": [
      "[[[['black', 'cyan'],\n",
      "   'white',\n",
      "   ['green', 'red']],\n",
      "  [['magenta', 'yellow'],\n",
      "   'blue']]]\n"
     ]
    }
   ],
   "source": [
    "import pprint\n",
    "t = [[[['black', 'cyan'], 'white', ['green', 'red']], [['magenta',\n",
    "    'yellow'], 'blue']]]\n",
    "pprint.pprint(t, width=30)"
   ]
  },
  {
   "cell_type": "code",
   "execution_count": 6,
   "id": "ffab498f-fa89-4044-8abe-c215ddc9c877",
   "metadata": {
    "tags": []
   },
   "outputs": [
    {
     "name": "stdout",
     "output_type": "stream",
     "text": [
      "The wrap() method is just like fill()\n",
      "except that it returns a list of strings\n",
      "instead of one big string with newlines\n",
      "to separate the wrapped lines.\n"
     ]
    }
   ],
   "source": [
    "import textwrap\n",
    "doc = \"\"\"The wrap() method is just like fill() except that it returns\n",
    "a list of strings instead of one big string with newlines to separate\n",
    "the wrapped lines.\"\"\"\n",
    "print(textwrap.fill(doc, width=40))"
   ]
  },
  {
   "cell_type": "code",
   "execution_count": 9,
   "id": "39ecbb64-1f84-4111-85f5-af3b293126a2",
   "metadata": {
    "tags": []
   },
   "outputs": [
    {
     "name": "stderr",
     "output_type": "stream",
     "text": [
      "/tmp/ipykernel_23736/401408661.py:4: DeprecationWarning: This method will be removed in a future version of Python. Use 'locale.format_string()' instead.\n",
      "  locale.format(\"%d\", x, grouping=True)\n"
     ]
    },
    {
     "data": {
      "text/plain": [
       "'1234567'"
      ]
     },
     "execution_count": 9,
     "metadata": {},
     "output_type": "execute_result"
    }
   ],
   "source": [
    "import locale\n",
    "conv = locale.localeconv() \n",
    "x = 1234567.8\n",
    "locale.format(\"%d\", x, grouping=True)"
   ]
  },
  {
   "cell_type": "code",
   "execution_count": 10,
   "id": "efb58476-f2d6-47aa-a361-808b075c2906",
   "metadata": {
    "tags": []
   },
   "outputs": [
    {
     "ename": "Error",
     "evalue": "unsupported locale setting",
     "output_type": "error",
     "traceback": [
      "\u001b[0;31m---------------------------------------------------------------------------\u001b[0m",
      "\u001b[0;31mError\u001b[0m                                     Traceback (most recent call last)",
      "Cell \u001b[0;32mIn[10], line 1\u001b[0m\n\u001b[0;32m----> 1\u001b[0m \u001b[43mlocale\u001b[49m\u001b[38;5;241;43m.\u001b[39;49m\u001b[43msetlocale\u001b[49m\u001b[43m(\u001b[49m\u001b[43mlocale\u001b[49m\u001b[38;5;241;43m.\u001b[39;49m\u001b[43mLC_ALL\u001b[49m\u001b[43m,\u001b[49m\u001b[43m \u001b[49m\u001b[38;5;124;43m'\u001b[39;49m\u001b[38;5;124;43mEnglish_United States.1252\u001b[39;49m\u001b[38;5;124;43m'\u001b[39;49m\u001b[43m)\u001b[49m\n",
      "File \u001b[0;32m/usr/local/python/3.10.4/lib/python3.10/locale.py:620\u001b[0m, in \u001b[0;36msetlocale\u001b[0;34m(category, locale)\u001b[0m\n\u001b[1;32m    617\u001b[0m \u001b[38;5;28;01mif\u001b[39;00m locale \u001b[38;5;129;01mand\u001b[39;00m \u001b[38;5;129;01mnot\u001b[39;00m \u001b[38;5;28misinstance\u001b[39m(locale, _builtin_str):\n\u001b[1;32m    618\u001b[0m     \u001b[38;5;66;03m# convert to string\u001b[39;00m\n\u001b[1;32m    619\u001b[0m     locale \u001b[38;5;241m=\u001b[39m normalize(_build_localename(locale))\n\u001b[0;32m--> 620\u001b[0m \u001b[38;5;28;01mreturn\u001b[39;00m \u001b[43m_setlocale\u001b[49m\u001b[43m(\u001b[49m\u001b[43mcategory\u001b[49m\u001b[43m,\u001b[49m\u001b[43m \u001b[49m\u001b[43mlocale\u001b[49m\u001b[43m)\u001b[49m\n",
      "\u001b[0;31mError\u001b[0m: unsupported locale setting"
     ]
    }
   ],
   "source": [
    "locale.setlocale(locale.LC_ALL, 'English_United States.1252')"
   ]
  },
  {
   "cell_type": "code",
   "execution_count": 11,
   "id": "8962ad95-ae47-403d-aa18-86b1b08a8384",
   "metadata": {
    "tags": []
   },
   "outputs": [
    {
     "data": {
      "text/plain": [
       "'1234567.8000000000465661287307739257812500000000000000000000000000000000000000000000000000000000000000000000000000000000000000000000000'"
      ]
     },
     "execution_count": 11,
     "metadata": {},
     "output_type": "execute_result"
    }
   ],
   "source": [
    "locale.format_string(\"%s%.*f\", (conv['currency_symbol'],\n",
    "                     conv['frac_digits'], x), grouping=True)"
   ]
  },
  {
   "cell_type": "code",
   "execution_count": null,
   "id": "b50c3324-9ef0-4af3-b586-f4d288f856c4",
   "metadata": {},
   "outputs": [],
   "source": []
  }
 ],
 "metadata": {
  "kernelspec": {
   "display_name": "Python 3 (ipykernel)",
   "language": "python",
   "name": "python3"
  },
  "language_info": {
   "codemirror_mode": {
    "name": "ipython",
    "version": 3
   },
   "file_extension": ".py",
   "mimetype": "text/x-python",
   "name": "python",
   "nbconvert_exporter": "python",
   "pygments_lexer": "ipython3",
   "version": "3.10.4"
  }
 },
 "nbformat": 4,
 "nbformat_minor": 5
}
