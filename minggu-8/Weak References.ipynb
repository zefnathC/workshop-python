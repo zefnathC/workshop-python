{
 "cells": [
  {
   "cell_type": "code",
   "execution_count": 2,
   "id": "263b95e8-cbfb-43a0-b30b-703a03ae8a29",
   "metadata": {
    "tags": []
   },
   "outputs": [],
   "source": [
    "import weakref, gc\n",
    "class A:\n",
    "    def __init__(self, value):\n",
    "        self.value = value\n",
    "    def __repr__(self):\n",
    "        return str(self.value)\n"
   ]
  },
  {
   "cell_type": "code",
   "execution_count": 3,
   "id": "9e0bfa1d-690b-4462-b9ab-203972a1e665",
   "metadata": {
    "tags": []
   },
   "outputs": [
    {
     "data": {
      "text/plain": [
       "10"
      ]
     },
     "execution_count": 3,
     "metadata": {},
     "output_type": "execute_result"
    }
   ],
   "source": [
    "a = A(10)                   # membuatreference\n",
    "d = weakref.WeakValueDictionary()\n",
    "d['primary'] = a            # jika tidak ada reference\n",
    "d['primary']"
   ]
  },
  {
   "cell_type": "code",
   "execution_count": 4,
   "id": "46277c32-b7ae-4cd7-b1d5-6328a173ae95",
   "metadata": {
    "tags": []
   },
   "outputs": [
    {
     "data": {
      "text/plain": [
       "790"
      ]
     },
     "execution_count": 4,
     "metadata": {},
     "output_type": "execute_result"
    }
   ],
   "source": [
    "del a                       # menghapus satu reference\n",
    "gc.collect() "
   ]
  },
  {
   "cell_type": "code",
   "execution_count": null,
   "id": "1d1c47d2-c7a5-4f87-a362-dee6f7326989",
   "metadata": {},
   "outputs": [],
   "source": []
  }
 ],
 "metadata": {
  "kernelspec": {
   "display_name": "Python 3 (ipykernel)",
   "language": "python",
   "name": "python3"
  },
  "language_info": {
   "codemirror_mode": {
    "name": "ipython",
    "version": 3
   },
   "file_extension": ".py",
   "mimetype": "text/x-python",
   "name": "python",
   "nbconvert_exporter": "python",
   "pygments_lexer": "ipython3",
   "version": "3.10.4"
  }
 },
 "nbformat": 4,
 "nbformat_minor": 5
}
